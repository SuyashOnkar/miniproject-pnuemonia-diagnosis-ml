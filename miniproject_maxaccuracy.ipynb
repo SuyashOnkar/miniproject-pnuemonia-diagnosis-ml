{
 "cells": [
  {
   "cell_type": "markdown",
   "id": "09404a60",
   "metadata": {},
   "source": [
    "# Mini Project - Pnuemonia Detection using CNN"
   ]
  },
  {
   "cell_type": "markdown",
   "id": "d4ceea21",
   "metadata": {},
   "source": [
    "## Step 1 : Import Libraries"
   ]
  },
  {
   "cell_type": "code",
   "execution_count": 3,
   "id": "bc295568",
   "metadata": {
    "execution": {
     "iopub.execute_input": "2024-04-14T13:04:55.436819Z",
     "iopub.status.busy": "2024-04-14T13:04:55.436443Z",
     "iopub.status.idle": "2024-04-14T13:05:09.164223Z",
     "shell.execute_reply": "2024-04-14T13:05:09.162669Z"
    },
    "papermill": {
     "duration": 13.738813,
     "end_time": "2024-04-14T13:05:09.167626",
     "exception": false,
     "start_time": "2024-04-14T13:04:55.428813",
     "status": "completed"
    },
    "tags": []
   },
   "outputs": [],
   "source": [
    "import pandas as pd\n",
    "import numpy as np\n",
    "import keras\n",
    "import warnings\n",
    "warnings.filterwarnings(action=\"ignore\")\n",
    "import matplotlib.pyplot as plt\n",
    "%matplotlib inline\n",
    "\n",
    "from keras import backend as K\n",
    "from sklearn.model_selection import train_test_split\n",
    "from sklearn.metrics import classification_report\n",
    "import tensorflow as tf\n",
    "from tensorflow import keras\n",
    "from tensorflow.keras.models import Sequential\n",
    "from tensorflow.keras.layers import Conv2D, MaxPooling2D, Flatten, Dense, Flatten\n",
    "from tensorflow.keras.optimizers import Adam\n",
    "from tensorflow.keras.losses import SparseCategoricalCrossentropy\n",
    "from tensorflow.keras.preprocessing.image import ImageDataGenerator\n",
    "\n",
    "import sklearn.metrics as metrics\n",
    "from keras.callbacks import LearningRateScheduler\n",
    "annealer = LearningRateScheduler(lambda x: 1e-3 * 0.95 ** x, verbose=0)"
   ]
  },
  {
   "cell_type": "markdown",
   "id": "c51c7035",
   "metadata": {},
   "source": [
    "## Step 2 : Read the dataset"
   ]
  },
  {
   "cell_type": "code",
   "execution_count": 5,
   "id": "873019e2",
   "metadata": {
    "execution": {
     "iopub.execute_input": "2024-04-14T13:05:09.183133Z",
     "iopub.status.busy": "2024-04-14T13:05:09.182474Z",
     "iopub.status.idle": "2024-04-14T13:05:09.388368Z",
     "shell.execute_reply": "2024-04-14T13:05:09.387306Z"
    },
    "papermill": {
     "duration": 0.216355,
     "end_time": "2024-04-14T13:05:09.391011",
     "exception": false,
     "start_time": "2024-04-14T13:05:09.174656",
     "status": "completed"
    },
    "tags": []
   },
   "outputs": [
    {
     "name": "stdout",
     "output_type": "stream",
     "text": [
      "                                          filepaths  labels\n",
      "0          chest_xray/test/NORMAL/IM-0031-0001.jpeg  Normal\n",
      "1          chest_xray/test/NORMAL/IM-0025-0001.jpeg  Normal\n",
      "2  chest_xray/test/NORMAL/NORMAL2-IM-0272-0001.jpeg  Normal\n",
      "3  chest_xray/test/NORMAL/NORMAL2-IM-0102-0001.jpeg  Normal\n",
      "4  chest_xray/test/NORMAL/NORMAL2-IM-0229-0001.jpeg  Normal\n",
      "labels\n",
      "Pneumonia    4273\n",
      "Normal       1583\n",
      "Name: count, dtype: int64\n"
     ]
    }
   ],
   "source": [
    "import os\n",
    "import pandas as pd\n",
    "\n",
    "healthy_dirs = [\n",
    "    r'chest_xray/test/NORMAL',\n",
    "    r'chest_xray/train/NORMAL',\n",
    "    r'chest_xray/val/NORMAL',\n",
    "]\n",
    "\n",
    "pneumonia_dir = [ \n",
    "    r'chest_xray/test/PNEUMONIA',\n",
    "    r'chest_xray/train/PNEUMONIA',\n",
    "    r'chest_xray/val/PNEUMONIA'\n",
    "]\n",
    "\n",
    "filepaths = []\n",
    "labels = []\n",
    "dict_lists = [healthy_dirs, pneumonia_dir]\n",
    "class_labels = ['Normal', 'Pneumonia']\n",
    "\n",
    "for i, dir_list in enumerate(dict_lists):\n",
    "    for j in dir_list:\n",
    "        flist = os.listdir(j)\n",
    "        for f in flist:\n",
    "            fpath = os.path.join(j, f)\n",
    "            filepaths.append(fpath)\n",
    "            labels.append(class_labels[i])\n",
    "\n",
    "Fseries = pd.Series(filepaths, name=\"filepaths\")\n",
    "Lseries = pd.Series(labels, name=\"labels\")\n",
    "pneumonia_data = pd.concat([Fseries, Lseries], axis=1)\n",
    "pneumonia_df = pd.DataFrame(pneumonia_data)\n",
    "print(pneumonia_df.head())\n",
    "print(pneumonia_df[\"labels\"].value_counts())\n"
   ]
  },
  {
   "cell_type": "code",
   "execution_count": 6,
   "id": "cacff821",
   "metadata": {
    "execution": {
     "iopub.execute_input": "2024-04-14T13:05:09.407547Z",
     "iopub.status.busy": "2024-04-14T13:05:09.407217Z",
     "iopub.status.idle": "2024-04-14T13:05:09.414184Z",
     "shell.execute_reply": "2024-04-14T13:05:09.413279Z"
    },
    "papermill": {
     "duration": 0.017632,
     "end_time": "2024-04-14T13:05:09.416326",
     "exception": false,
     "start_time": "2024-04-14T13:05:09.398694",
     "status": "completed"
    },
    "tags": []
   },
   "outputs": [
    {
     "data": {
      "text/plain": [
       "(5856, 2)"
      ]
     },
     "execution_count": 6,
     "metadata": {},
     "output_type": "execute_result"
    }
   ],
   "source": [
    "pneumonia_df.shape"
   ]
  },
  {
   "cell_type": "code",
   "execution_count": 7,
   "id": "a6637259",
   "metadata": {
    "execution": {
     "iopub.execute_input": "2024-04-14T13:05:09.431306Z",
     "iopub.status.busy": "2024-04-14T13:05:09.431010Z",
     "iopub.status.idle": "2024-04-14T13:05:09.441861Z",
     "shell.execute_reply": "2024-04-14T13:05:09.441060Z"
    },
    "papermill": {
     "duration": 0.02077,
     "end_time": "2024-04-14T13:05:09.443956",
     "exception": false,
     "start_time": "2024-04-14T13:05:09.423186",
     "status": "completed"
    },
    "tags": []
   },
   "outputs": [],
   "source": [
    "train_images, test_images = train_test_split(pneumonia_df, test_size=0.3, random_state=42)\n",
    "train_set, val_set = train_test_split(pneumonia_df, test_size=0.2, random_state=42)"
   ]
  },
  {
   "cell_type": "code",
   "execution_count": 8,
   "id": "b5812f18",
   "metadata": {
    "execution": {
     "iopub.execute_input": "2024-04-14T13:05:09.458696Z",
     "iopub.status.busy": "2024-04-14T13:05:09.458386Z",
     "iopub.status.idle": "2024-04-14T13:05:09.463582Z",
     "shell.execute_reply": "2024-04-14T13:05:09.462641Z"
    },
    "papermill": {
     "duration": 0.015484,
     "end_time": "2024-04-14T13:05:09.466156",
     "exception": false,
     "start_time": "2024-04-14T13:05:09.450672",
     "status": "completed"
    },
    "tags": []
   },
   "outputs": [
    {
     "name": "stdout",
     "output_type": "stream",
     "text": [
      "(4684, 2)\n",
      "(1757, 2)\n",
      "(1172, 2)\n",
      "(4099, 2)\n"
     ]
    }
   ],
   "source": [
    "print(train_set.shape)\n",
    "print(test_images.shape)\n",
    "print(val_set.shape)\n",
    "print(train_images.shape)"
   ]
  },
  {
   "cell_type": "markdown",
   "id": "5d6e0a7b",
   "metadata": {},
   "source": [
    "## Step 3 : Image Preprocessing"
   ]
  },
  {
   "cell_type": "code",
   "execution_count": 9,
   "id": "00f2b95a",
   "metadata": {
    "execution": {
     "iopub.execute_input": "2024-04-14T13:05:09.481196Z",
     "iopub.status.busy": "2024-04-14T13:05:09.480833Z",
     "iopub.status.idle": "2024-04-14T13:05:12.708824Z",
     "shell.execute_reply": "2024-04-14T13:05:12.707780Z"
    },
    "papermill": {
     "duration": 3.238049,
     "end_time": "2024-04-14T13:05:12.711045",
     "exception": false,
     "start_time": "2024-04-14T13:05:09.472996",
     "status": "completed"
    },
    "tags": []
   },
   "outputs": [
    {
     "name": "stdout",
     "output_type": "stream",
     "text": [
      "Found 4684 validated image filenames belonging to 2 classes.\n",
      "Found 1757 validated image filenames belonging to 2 classes.\n",
      "Found 1172 validated image filenames belonging to 2 classes.\n"
     ]
    }
   ],
   "source": [
    "image_gen = ImageDataGenerator(preprocessing_function= tf.keras.applications.mobilenet_v2.preprocess_input)\n",
    "train = image_gen.flow_from_dataframe(dataframe= train_set,x_col=\"filepaths\",y_col=\"labels\",\n",
    "                                      target_size=(244,244),\n",
    "                                      color_mode='rgb',\n",
    "                                      class_mode=\"categorical\", #used for Sequential Model\n",
    "                                      batch_size=4,\n",
    "                                      shuffle=False            #do not shuffle data\n",
    "                                     )\n",
    "test = image_gen.flow_from_dataframe(dataframe= test_images,x_col=\"filepaths\", y_col=\"labels\",\n",
    "                                     target_size=(244,244),\n",
    "                                     color_mode='rgb',\n",
    "                                     class_mode=\"categorical\",\n",
    "                                     batch_size=4,\n",
    "                                     shuffle= False\n",
    "                                    )\n",
    "val = image_gen.flow_from_dataframe(dataframe= val_set,x_col=\"filepaths\", y_col=\"labels\",\n",
    "                                    target_size=(244,244),\n",
    "                                    color_mode= 'rgb',\n",
    "                                    class_mode=\"categorical\",\n",
    "                                    batch_size=4,\n",
    "                                    shuffle=False\n",
    "                                   )"
   ]
  },
  {
   "cell_type": "code",
   "execution_count": 10,
   "id": "d170e2aa",
   "metadata": {
    "execution": {
     "iopub.execute_input": "2024-04-14T13:05:12.724986Z",
     "iopub.status.busy": "2024-04-14T13:05:12.724667Z",
     "iopub.status.idle": "2024-04-14T13:05:12.729006Z",
     "shell.execute_reply": "2024-04-14T13:05:12.728153Z"
    },
    "papermill": {
     "duration": 0.013676,
     "end_time": "2024-04-14T13:05:12.731105",
     "exception": false,
     "start_time": "2024-04-14T13:05:12.717429",
     "status": "completed"
    },
    "tags": []
   },
   "outputs": [
    {
     "name": "stdout",
     "output_type": "stream",
     "text": [
      "['Normal', 'Pneumonia']\n"
     ]
    }
   ],
   "source": [
    "classes=list(train.class_indices.keys())\n",
    "print (classes)"
   ]
  },
  {
   "cell_type": "code",
   "execution_count": 11,
   "id": "753bc5fd",
   "metadata": {
    "execution": {
     "iopub.execute_input": "2024-04-14T13:05:12.745026Z",
     "iopub.status.busy": "2024-04-14T13:05:12.744341Z",
     "iopub.status.idle": "2024-04-14T13:05:12.751243Z",
     "shell.execute_reply": "2024-04-14T13:05:12.750396Z"
    },
    "papermill": {
     "duration": 0.015825,
     "end_time": "2024-04-14T13:05:12.753100",
     "exception": false,
     "start_time": "2024-04-14T13:05:12.737275",
     "status": "completed"
    },
    "tags": []
   },
   "outputs": [],
   "source": [
    "def show_knee_images(image_gen):\n",
    "    test_dict = test.class_indices\n",
    "    classes = list(test_dict.keys())\n",
    "    images, labels=next(image_gen) # get a sample batch from the generator\n",
    "    plt.figure(figsize=(20,20))\n",
    "    length = len(labels)\n",
    "    if length<25:\n",
    "        r=length\n",
    "    else:\n",
    "        r=25\n",
    "    for i in range(r):\n",
    "        plt.subplot(5,5,i+1)\n",
    "        image=(images[i]+1)/2 #scale images between 0 and 1\n",
    "        plt.imshow(image)\n",
    "        index=np.argmax(labels[i])\n",
    "        class_name=classes[index]\n",
    "        plt.title(class_name, color=\"green\",fontsize=16)\n",
    "        plt.axis('off')\n",
    "    plt.show()\n",
    "    show_knee_images(train)"
   ]
  },
  {
   "cell_type": "markdown",
   "id": "8891f346",
   "metadata": {},
   "source": [
    "## Step 4 : Create the model"
   ]
  },
  {
   "cell_type": "code",
   "execution_count": 12,
   "id": "2f6cbf39",
   "metadata": {
    "execution": {
     "iopub.execute_input": "2024-04-14T13:05:12.766669Z",
     "iopub.status.busy": "2024-04-14T13:05:12.766412Z",
     "iopub.status.idle": "2024-04-14T13:05:13.668784Z",
     "shell.execute_reply": "2024-04-14T13:05:13.667938Z"
    },
    "papermill": {
     "duration": 0.9115,
     "end_time": "2024-04-14T13:05:13.670770",
     "exception": false,
     "start_time": "2024-04-14T13:05:12.759270",
     "status": "completed"
    },
    "tags": []
   },
   "outputs": [
    {
     "name": "stderr",
     "output_type": "stream",
     "text": [
      "WARNING:absl:At this time, the v2.11+ optimizer `tf.keras.optimizers.SGD` runs slowly on M1/M2 Macs, please use the legacy Keras optimizer instead, located at `tf.keras.optimizers.legacy.SGD`.\n"
     ]
    },
    {
     "name": "stdout",
     "output_type": "stream",
     "text": [
      "Model: \"sequential\"\n",
      "_________________________________________________________________\n",
      " Layer (type)                Output Shape              Param #   \n",
      "=================================================================\n",
      " conv2d (Conv2D)             (None, 73, 73, 128)       24704     \n",
      "                                                                 \n",
      " batch_normalization (Batch  (None, 73, 73, 128)       512       \n",
      " Normalization)                                                  \n",
      "                                                                 \n",
      " conv2d_1 (Conv2D)           (None, 73, 73, 256)       819456    \n",
      "                                                                 \n",
      " batch_normalization_1 (Bat  (None, 73, 73, 256)       1024      \n",
      " chNormalization)                                                \n",
      "                                                                 \n",
      " max_pooling2d (MaxPooling2  (None, 24, 24, 256)       0         \n",
      " D)                                                              \n",
      "                                                                 \n",
      " conv2d_2 (Conv2D)           (None, 24, 24, 256)       590080    \n",
      "                                                                 \n",
      " batch_normalization_2 (Bat  (None, 24, 24, 256)       1024      \n",
      " chNormalization)                                                \n",
      "                                                                 \n",
      " conv2d_3 (Conv2D)           (None, 24, 24, 256)       65792     \n",
      "                                                                 \n",
      " batch_normalization_3 (Bat  (None, 24, 24, 256)       1024      \n",
      " chNormalization)                                                \n",
      "                                                                 \n",
      " conv2d_4 (Conv2D)           (None, 24, 24, 256)       65792     \n",
      "                                                                 \n",
      " batch_normalization_4 (Bat  (None, 24, 24, 256)       1024      \n",
      " chNormalization)                                                \n",
      "                                                                 \n",
      " conv2d_5 (Conv2D)           (None, 24, 24, 512)       1180160   \n",
      "                                                                 \n",
      " batch_normalization_5 (Bat  (None, 24, 24, 512)       2048      \n",
      " chNormalization)                                                \n",
      "                                                                 \n",
      " max_pooling2d_1 (MaxPoolin  (None, 12, 12, 512)       0         \n",
      " g2D)                                                            \n",
      "                                                                 \n",
      " conv2d_6 (Conv2D)           (None, 12, 12, 512)       2359808   \n",
      "                                                                 \n",
      " batch_normalization_6 (Bat  (None, 12, 12, 512)       2048      \n",
      " chNormalization)                                                \n",
      "                                                                 \n",
      " conv2d_7 (Conv2D)           (None, 12, 12, 512)       2359808   \n",
      "                                                                 \n",
      " batch_normalization_7 (Bat  (None, 12, 12, 512)       2048      \n",
      " chNormalization)                                                \n",
      "                                                                 \n",
      " max_pooling2d_2 (MaxPoolin  (None, 6, 6, 512)         0         \n",
      " g2D)                                                            \n",
      "                                                                 \n",
      " conv2d_8 (Conv2D)           (None, 6, 6, 512)         2359808   \n",
      "                                                                 \n",
      " batch_normalization_8 (Bat  (None, 6, 6, 512)         2048      \n",
      " chNormalization)                                                \n",
      "                                                                 \n",
      " max_pooling2d_3 (MaxPoolin  (None, 3, 3, 512)         0         \n",
      " g2D)                                                            \n",
      "                                                                 \n",
      " flatten (Flatten)           (None, 4608)              0         \n",
      "                                                                 \n",
      " dense (Dense)               (None, 1024)              4719616   \n",
      "                                                                 \n",
      " dropout (Dropout)           (None, 1024)              0         \n",
      "                                                                 \n",
      " dense_1 (Dense)             (None, 1024)              1049600   \n",
      "                                                                 \n",
      " dropout_1 (Dropout)         (None, 1024)              0         \n",
      "                                                                 \n",
      " dense_2 (Dense)             (None, 2)                 2050      \n",
      "                                                                 \n",
      "=================================================================\n",
      "Total params: 15609474 (59.55 MB)\n",
      "Trainable params: 15603074 (59.52 MB)\n",
      "Non-trainable params: 6400 (25.00 KB)\n",
      "_________________________________________________________________\n"
     ]
    }
   ],
   "source": [
    "model = keras.models.Sequential([\n",
    "    keras.layers.Conv2D(filters=128, kernel_size=(8, 8), strides=(3, 3), activation='relu', input_shape=(224, 224, 3)),\n",
    "    keras.layers.BatchNormalization(),\n",
    "    \n",
    "    keras.layers.Conv2D(filters=256, kernel_size=(5, 5), strides=(1, 1), activation='relu', padding=\"same\"),\n",
    "    keras.layers.BatchNormalization(),\n",
    "    keras.layers.MaxPool2D(pool_size=(3, 3)),\n",
    "    \n",
    "    keras.layers.Conv2D(filters=256, kernel_size=(3, 3), strides=(1, 1), activation='relu', padding=\"same\"),\n",
    "    keras.layers.BatchNormalization(),\n",
    "    keras.layers.Conv2D(filters=256, kernel_size=(1, 1), strides=(1, 1), activation='relu', padding=\"same\"),\n",
    "    keras.layers.BatchNormalization(),\n",
    "    keras.layers.Conv2D(filters=256, kernel_size=(1, 1), strides=(1, 1), activation='relu', padding=\"same\"),\n",
    "    keras.layers.BatchNormalization(),\n",
    "    \n",
    "    keras.layers.Conv2D(filters=512, kernel_size=(3, 3), activation='relu', padding=\"same\"),\n",
    "    keras.layers.BatchNormalization(),\n",
    "    keras.layers.MaxPool2D(pool_size=(2, 2)),\n",
    "    \n",
    "    keras.layers.Conv2D(filters=512, kernel_size=(3, 3), activation='relu', padding=\"same\"),\n",
    "    keras.layers.BatchNormalization(),\n",
    "    \n",
    "    keras.layers.Conv2D(filters=512, kernel_size=(3, 3), activation='relu', padding=\"same\"),\n",
    "    keras.layers.BatchNormalization(),\n",
    "    \n",
    "    keras.layers.MaxPool2D(pool_size=(2, 2)),\n",
    "    \n",
    "    keras.layers.Conv2D(filters=512, kernel_size=(3, 3), activation='relu', padding=\"same\"),\n",
    "    keras.layers.BatchNormalization(),\n",
    "    \n",
    "    keras.layers.MaxPool2D(pool_size=(2, 2)),\n",
    "    \n",
    "    keras.layers.Flatten(),\n",
    "    keras.layers.Dense(1024, activation='relu'),\n",
    "    keras.layers.Dropout(0.5),\n",
    "    keras.layers.Dense(1024, activation='relu'),\n",
    "    keras.layers.Dropout(0.5),\n",
    "    keras.layers.Dense(2, activation='softmax')\n",
    "])\n",
    "\n",
    "model.compile(\n",
    "    loss='categorical_crossentropy',\n",
    "    optimizer=tf.optimizers.SGD(learning_rate=0.001),\n",
    "    metrics=['accuracy']\n",
    ")\n",
    "\n",
    "model.summary()"
   ]
  },
  {
   "cell_type": "code",
   "execution_count": 13,
   "id": "52492396",
   "metadata": {
    "execution": {
     "iopub.execute_input": "2024-04-14T13:05:13.687567Z",
     "iopub.status.busy": "2024-04-14T13:05:13.687275Z",
     "iopub.status.idle": "2024-04-14T13:05:14.493091Z",
     "shell.execute_reply": "2024-04-14T13:05:14.492210Z"
    },
    "papermill": {
     "duration": 0.824001,
     "end_time": "2024-04-14T13:05:14.502244",
     "exception": false,
     "start_time": "2024-04-14T13:05:13.678243",
     "status": "completed"
    },
    "tags": []
   },
   "outputs": [
    {
     "name": "stdout",
     "output_type": "stream",
     "text": [
      "You must install pydot (`pip install pydot`) and install graphviz (see instructions at https://graphviz.gitlab.io/download/) for plot_model to work.\n"
     ]
    }
   ],
   "source": [
    "from keras.utils import plot_model\n",
    "\n",
    "plot_model(model, to_file='model_plot.png', show_shapes=True, show_layer_names=True)"
   ]
  },
  {
   "cell_type": "markdown",
   "id": "9a7319ae",
   "metadata": {},
   "source": [
    "## Step 5 : Train and Evaluate the model"
   ]
  },
  {
   "cell_type": "code",
   "execution_count": 14,
   "id": "0f8cb1a7",
   "metadata": {
    "execution": {
     "iopub.execute_input": "2024-04-14T13:05:14.538557Z",
     "iopub.status.busy": "2024-04-14T13:05:14.537838Z",
     "iopub.status.idle": "2024-04-14T13:15:33.469213Z",
     "shell.execute_reply": "2024-04-14T13:15:33.468340Z"
    },
    "papermill": {
     "duration": 619.484954,
     "end_time": "2024-04-14T13:15:34.004647",
     "exception": false,
     "start_time": "2024-04-14T13:05:14.519693",
     "status": "completed"
    },
    "tags": []
   },
   "outputs": [
    {
     "name": "stdout",
     "output_type": "stream",
     "text": [
      "Epoch 1/10\n",
      "1171/1171 [==============================] - ETA: 0s - loss: 0.4417 - accuracy: 0.8578"
     ]
    }
   ],
   "source": [
    "history = model.fit(train, epochs=10, validation_data=val, verbose=1)"
   ]
  },
  {
   "cell_type": "code",
   "execution_count": null,
   "id": "0808bed5",
   "metadata": {
    "execution": {
     "iopub.execute_input": "2024-04-14T13:15:35.077296Z",
     "iopub.status.busy": "2024-04-14T13:15:35.076936Z",
     "iopub.status.idle": "2024-04-14T13:15:52.935081Z",
     "shell.execute_reply": "2024-04-14T13:15:52.934283Z"
    },
    "papermill": {
     "duration": 18.39268,
     "end_time": "2024-04-14T13:15:52.937061",
     "exception": false,
     "start_time": "2024-04-14T13:15:34.544381",
     "status": "completed"
    },
    "tags": []
   },
   "outputs": [
    {
     "name": "stdout",
     "output_type": "stream",
     "text": [
      "\u001b[1m440/440\u001b[0m \u001b[32m━━━━━━━━━━━━━━━━━━━━\u001b[0m\u001b[37m\u001b[0m \u001b[1m18s\u001b[0m 40ms/step - accuracy: 0.9512 - loss: 0.1699\n"
     ]
    },
    {
     "data": {
      "text/plain": [
       "[0.1481194645166397, 0.9595901966094971]"
      ]
     },
     "execution_count": 12,
     "metadata": {},
     "output_type": "execute_result"
    }
   ],
   "source": [
    "model.evaluate(test, verbose=1)"
   ]
  },
  {
   "cell_type": "code",
   "execution_count": null,
   "id": "c74207f2",
   "metadata": {
    "execution": {
     "iopub.execute_input": "2024-04-14T13:15:54.113416Z",
     "iopub.status.busy": "2024-04-14T13:15:54.113040Z",
     "iopub.status.idle": "2024-04-14T13:15:54.285102Z",
     "shell.execute_reply": "2024-04-14T13:15:54.284103Z"
    },
    "papermill": {
     "duration": 0.782195,
     "end_time": "2024-04-14T13:15:54.287531",
     "exception": false,
     "start_time": "2024-04-14T13:15:53.505336",
     "status": "completed"
    },
    "tags": []
   },
   "outputs": [],
   "source": [
    "model.save(\"pneumonia_Model.h5\")"
   ]
  },
  {
   "cell_type": "code",
   "execution_count": null,
   "id": "9dcee45c",
   "metadata": {
    "execution": {
     "iopub.execute_input": "2024-04-14T13:15:55.412030Z",
     "iopub.status.busy": "2024-04-14T13:15:55.411640Z",
     "iopub.status.idle": "2024-04-14T13:16:13.433766Z",
     "shell.execute_reply": "2024-04-14T13:16:13.432706Z"
    },
    "papermill": {
     "duration": 18.589809,
     "end_time": "2024-04-14T13:16:13.436240",
     "exception": false,
     "start_time": "2024-04-14T13:15:54.846431",
     "status": "completed"
    },
    "tags": []
   },
   "outputs": [],
   "source": [
    "pred = model.predict(test)\n",
    "pred = np.argmax(pred, axis=1) #pick class with highest  probability\n",
    "\n",
    "labels = (train.class_indices)\n",
    "labels = dict((v,k) for k,v in labels.items())\n",
    "pred2 = [labels[k] for k in pred]"
   ]
  },
  {
   "cell_type": "code",
   "execution_count": null,
   "id": "59632536",
   "metadata": {
    "execution": {
     "iopub.execute_input": "2024-04-14T13:16:14.711105Z",
     "iopub.status.busy": "2024-04-14T13:16:14.710681Z",
     "iopub.status.idle": "2024-04-14T13:16:15.019669Z",
     "shell.execute_reply": "2024-04-14T13:16:15.018792Z"
    },
    "papermill": {
     "duration": 0.929373,
     "end_time": "2024-04-14T13:16:15.023236",
     "exception": false,
     "start_time": "2024-04-14T13:16:14.093863",
     "status": "completed"
    },
    "tags": []
   },
   "outputs": [
    {
     "data": {
      "image/png": "[encoded data removed]",
      "text/plain": [
       "<Figure size 640x480 with 1 Axes>"
      ]
     },
     "metadata": {},
     "output_type": "display_data"
    }
   ],
   "source": [
    "plt.plot(history.history['accuracy'])\n",
    "plt.plot(history.history['val_accuracy'])\n",
    "plt.title('model accuracy')\n",
    "plt.ylabel('accuracy')\n",
    "plt.xlabel('epoch')\n",
    "plt.legend(['train', 'val'], loc='upper left')\n",
    "plt.show()"
   ]
  },
  {
   "cell_type": "code",
   "execution_count": null,
   "id": "f84094a1",
   "metadata": {
    "execution": {
     "iopub.execute_input": "2024-04-14T13:16:16.181931Z",
     "iopub.status.busy": "2024-04-14T13:16:16.181030Z",
     "iopub.status.idle": "2024-04-14T13:16:16.439608Z",
     "shell.execute_reply": "2024-04-14T13:16:16.438769Z"
    },
    "papermill": {
     "duration": 0.837309,
     "end_time": "2024-04-14T13:16:16.441826",
     "exception": false,
     "start_time": "2024-04-14T13:16:15.604517",
     "status": "completed"
    },
    "tags": []
   },
   "outputs": [
    {
     "data": {
      "image/png": "[encoded data removed]",
      "text/plain": [
       "<Figure size 640x480 with 1 Axes>"
      ]
     },
     "metadata": {},
     "output_type": "display_data"
    }
   ],
   "source": [
    "plt.plot(history.history['loss'])\n",
    "plt.plot(history.history['val_loss'])\n",
    "plt.title('model loss')\n",
    "plt.ylabel('loss')\n",
    "plt.xlabel('epoch')\n",
    "plt.legend(['train', 'val'], loc='upper left')\n",
    "plt.show()"
   ]
  },
  {
   "cell_type": "code",
   "execution_count": null,
   "id": "4b21c9ca",
   "metadata": {
    "execution": {
     "iopub.execute_input": "2024-04-14T13:16:17.660102Z",
     "iopub.status.busy": "2024-04-14T13:16:17.659706Z",
     "iopub.status.idle": "2024-04-14T13:16:17.753257Z",
     "shell.execute_reply": "2024-04-14T13:16:17.752178Z"
    },
    "papermill": {
     "duration": 0.683165,
     "end_time": "2024-04-14T13:16:17.755238",
     "exception": false,
     "start_time": "2024-04-14T13:16:17.072073",
     "status": "completed"
    },
    "tags": []
   },
   "outputs": [
    {
     "name": "stdout",
     "output_type": "stream",
     "text": [
      "              precision    recall  f1-score   support\n",
      "\n",
      "      Normal       0.97      0.89      0.93       505\n",
      "   Pneumonia       0.96      0.99      0.97      1252\n",
      "\n",
      "    accuracy                           0.96      1757\n",
      "   macro avg       0.96      0.94      0.95      1757\n",
      "weighted avg       0.96      0.96      0.96      1757\n",
      "\n",
      "Accuracy of the Model: 96.0%\n"
     ]
    }
   ],
   "source": [
    "from sklearn.metrics import confusion_matrix, accuracy_score\n",
    "\n",
    "y_test = test_images.labels\n",
    "print(classification_report(y_test, pred2))\n",
    "print(\"Accuracy of the Model:\",\"{:.1f}%\".format(accuracy_score(y_test, pred2)*100))"
   ]
  },
  {
   "cell_type": "code",
   "execution_count": null,
   "id": "2f2522f3",
   "metadata": {
    "execution": {
     "iopub.execute_input": "2024-04-14T13:16:18.967638Z",
     "iopub.status.busy": "2024-04-14T13:16:18.967260Z",
     "iopub.status.idle": "2024-04-14T13:16:19.529672Z",
     "shell.execute_reply": "2024-04-14T13:16:19.528724Z"
    },
    "papermill": {
     "duration": 1.156778,
     "end_time": "2024-04-14T13:16:19.531834",
     "exception": false,
     "start_time": "2024-04-14T13:16:18.375056",
     "status": "completed"
    },
    "tags": []
   },
   "outputs": [
    {
     "data": {
      "image/png": "[encoded data removed]",
      "text/plain": [
       "<Figure size 1000x500 with 2 Axes>"
      ]
     },
     "metadata": {},
     "output_type": "display_data"
    }
   ],
   "source": [
    "import matplotlib.pyplot as plt\n",
    "import seaborn as sns\n",
    "from sklearn.metrics import confusion_matrix\n",
    "\n",
    "class_labels = ['Normal', 'Pneumonia']\n",
    "\n",
    "cm = confusion_matrix(y_test, pred2)\n",
    "\n",
    "plt.figure(figsize=(10, 5))\n",
    "sns.heatmap(cm, annot=True, fmt='g', vmin=0, cmap='Blues')\n",
    "\n",
    "plt.xticks(ticks=[0.5, 1.5], labels=class_labels)\n",
    "plt.yticks(ticks=[0.5, 1.5], labels=class_labels)\n",
    "plt.xlabel(\"Predicted\")\n",
    "plt.ylabel(\"Actual\")\n",
    "\n",
    "plt.title(\"Confusion Matrix\")\n",
    "\n",
    "plt.show()\n"
   ]
  }
 ],
 "metadata": {
  "kaggle": {
   "accelerator": "gpu",
   "dataSources": [
    {
     "datasetId": 17810,
     "sourceId": 23812,
     "sourceType": "datasetVersion"
    },
    {
     "datasetId": 661308,
     "sourceId": 1166777,
     "sourceType": "datasetVersion"
    }
   ],
   "dockerImageVersionId": 30683,
   "isGpuEnabled": true,
   "isInternetEnabled": true,
   "language": "python",
   "sourceType": "notebook"
  },
  "kernelspec": {
   "display_name": "Python 3",
   "language": "python",
   "name": "python3"
  },
  "language_info": {
   "codemirror_mode": {
    "name": "ipython",
    "version": 3
   },
   "file_extension": ".py",
   "mimetype": "text/x-python",
   "name": "python",
   "nbconvert_exporter": "python",
   "pygments_lexer": "ipython3",
   "version": "3.10.13"
  },
  "papermill": {
   "default_parameters": {},
   "duration": 691.697474,
   "end_time": "2024-04-14T13:16:24.330172",
   "environment_variables": {},
   "exception": null,
   "input_path": "__notebook__.ipynb",
   "output_path": "__notebook__.ipynb",
   "parameters": {},
   "start_time": "2024-04-14T13:04:52.632698",
   "version": "2.5.0"
  }
 },
 "nbformat": 4,
 "nbformat_minor": 5
}
